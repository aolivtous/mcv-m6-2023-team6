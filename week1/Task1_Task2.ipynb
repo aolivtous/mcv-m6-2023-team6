{
 "cells": [
  {
   "cell_type": "code",
   "execution_count": 1,
   "metadata": {},
   "outputs": [],
   "source": [
    "import os\n",
    "import cv2\n",
    "import matplotlib.pyplot as plt\n",
    "import numpy\n",
    "from collections import defaultdict\n",
    "import xml.etree.ElementTree as ET\n",
    "import os\n",
    "import numpy as np\n",
    "import random\n",
    "import copy\n",
    "import pandas as pd\n",
    "import itertools\n",
    "import xmltodict\n",
    "from tqdm import tqdm"
   ]
  },
  {
   "cell_type": "code",
   "execution_count": 2,
   "metadata": {},
   "outputs": [],
   "source": [
    "def load_from_xml(path):\n",
    "    \"\"\"\n",
    "\n",
    "    :param path: path file\n",
    "\n",
    "    :return: dict[frame_num] = [[x1, y1, x2, y2]]\n",
    "    \"\"\"\n",
    "    \n",
    "    with open(path) as f:\n",
    "        tracks = xmltodict.parse(f.read())['annotations']['track']\n",
    "\n",
    "    gt = defaultdict(list)\n",
    "    num_iter = 0\n",
    "    for track in tracks:\n",
    "        label = track['@label']\n",
    "        boxes = track['box']\n",
    "        for box in boxes:\n",
    "            if label == 'car':\n",
    "                frame=int(box['@frame'])\n",
    "                frame = f'f_{frame}'\n",
    "                gt[frame].append(\n",
    "                    [float(box['@xtl']),\n",
    "                    float(box['@ytl']),\n",
    "                    float(box['@xbr']),\n",
    "                    float(box['@ybr'])]\n",
    "                )\n",
    "                num_iter += 1\n",
    "\n",
    "            else:\n",
    "                continue\n",
    "\n",
    "    return gt, num_iter"
   ]
  },
  {
   "cell_type": "code",
   "execution_count": 3,
   "metadata": {},
   "outputs": [],
   "source": [
    "def load_from_txt(path):\n",
    "    \"\"\"\n",
    "    :param path: path file\n",
    "\n",
    "    :return: list = [[frame,x1, y1, x2, y2, conf]]\n",
    "    \"\"\"\n",
    "    frame_list = []\n",
    "    with open(path) as f:\n",
    "        lines = f.readlines()\n",
    "   \n",
    "    for l in lines:\n",
    "        ll = l.split(',')\n",
    "        frame = f'f_{int(ll[0]) - 1}'\n",
    "        frame_list.append([frame,float(ll[2]), float(ll[3]),\n",
    "                                            float(ll[2]) + float(ll[4]), float(ll[3])+float(ll[5]),ll[6]])\n",
    "        \n",
    "\n",
    "\n",
    "    return frame_list"
   ]
  },
  {
   "cell_type": "code",
   "execution_count": 4,
   "metadata": {},
   "outputs": [],
   "source": [
    "def generate_noisy_boxes(gt_boxes, del_prob,gen_prob, mean, std,frame_shape=[1080, 1920]):\n",
    "    \"\"\"\n",
    "    :gt_boxes: ground truth bounding boxes dict\n",
    "    :del_prob: probability to delete bounding boxes\n",
    "    :gen_prob: probability to generate bounding boxes\n",
    "    :return: list with the noisy bounding boxes list = [[frame,x1, y1, x2, y2]]\n",
    "    \"\"\"\n",
    "    noisy_bboxes = []\n",
    "    gt_total = 0\n",
    "    for frame,bboxes in gt_boxes.items():\n",
    "        for bbox in bboxes:\n",
    "            gt_total += 1\n",
    "            if np.random.random() > del_prob:\n",
    "                xtl, ytl, xbr, ybr = bbox\n",
    "                noise = np.random.normal(mean,std,4)\n",
    "                noisy_bboxes.append([frame,xtl+noise[0], ytl+noise[1], xbr+noise[2], ybr+noise[3]])\n",
    "                w = xbr - xtl\n",
    "                h = ybr - ytl\n",
    "\n",
    "        if np.random.random() <= gen_prob:\n",
    "            x = np.random.randint(w, frame_shape[1]-w)\n",
    "            y = np.random.randint(h, frame_shape[0]-h)\n",
    "            noisy_bboxes.append([frame,x-w/2, y-w/2, x+w/2, y+w/2])\n",
    "\n",
    "\n",
    "    return noisy_bboxes\n"
   ]
  },
  {
   "cell_type": "code",
   "execution_count": 5,
   "metadata": {},
   "outputs": [],
   "source": [
    "def iou(box1, box2):\n",
    "    if len(box1) > 4:\n",
    "        box1=box1[:4]\n",
    "    x11, y11, x12, y12 = box1\n",
    "    x21, y21, x22, y22 = box2\n",
    "    xA = np.maximum(x11, x21)\n",
    "    yA = np.maximum(y11, y21)\n",
    "    xB = np.minimum(x12, x22)\n",
    "    yB = np.minimum(y12, y22)\n",
    "    interArea = np.maximum(0, xB - xA + 1) * np.maximum(0, yB - yA + 1)\n",
    "    boxAArea = (x12 - x11 + 1) * (y12 - y11 + 1)\n",
    "    boxBArea = (x22 - x21 + 1) * (y22 - y21 + 1)\n",
    "    iou = interArea / np.float64(boxAArea + boxBArea - interArea)\n",
    "    return iou"
   ]
  },
  {
   "cell_type": "code",
   "execution_count": 6,
   "metadata": {},
   "outputs": [],
   "source": [
    "def mean_AP_Pascal_VOC(gt_boxes,N_gt,predicted_boxes,iou_th):\n",
    "    \"\"\"\n",
    "    :gt_boxes: ground truth bounding boxes dict\n",
    "    :N_gt: Total of ground truth bounding boxes\n",
    "    :predicted_boxes: predicted bounding boxes\n",
    "    :return: mean IOU, average precision\n",
    "    \"\"\"\n",
    "    mIOU = 0\n",
    "    tp = np.zeros(len(predicted_boxes))\n",
    "    fp = np.zeros(len(predicted_boxes))\n",
    "    gt_detected = copy.deepcopy(gt_boxes)\n",
    "\n",
    "    mIOU_frame = {}\n",
    "    for i in range(len(predicted_boxes)):\n",
    "        frame = predicted_boxes[i][0]\n",
    "        predicted = predicted_boxes[i][1:5]\n",
    "        gt = gt_detected[frame]\n",
    "        iou_score = []\n",
    "        if len(gt) != 0:\n",
    "            for b in range(len(gt)):\n",
    "                iou_score.append(iou(gt[b],predicted))\n",
    "            id = np.argmax(iou_score)\n",
    "            max_iou = iou_score[id]\n",
    "            mIOU += max_iou\n",
    "            # Save max iou for each frame\n",
    "            if frame not in mIOU_frame:\n",
    "                mIOU_frame[frame] = []\n",
    "            mIOU_frame[frame].append(max_iou)\n",
    "\n",
    "            if max_iou >= iou_th:\n",
    "                if len(gt_detected[frame][id]) == 4:\n",
    "                    gt_detected[frame][id].append(True)\n",
    "                    tp[i] = 1\n",
    "                else:\n",
    "                    fp[i] = 1\n",
    "            else:\n",
    "                fp[i] = 1\n",
    "\n",
    "    tp = np.cumsum(tp)\n",
    "    fp = np.cumsum(fp)\n",
    "\n",
    "    recall = tp/ np.float64(N_gt)\n",
    "    precision = tp/np.maximum(tp + fp, np.finfo(np.float64).eps)\n",
    "\n",
    "    ap = 0.0\n",
    "    for t in np.arange(0.0, 1.1, 0.1):\n",
    "        if np.sum(recall >= t) == 0:\n",
    "            p = 0\n",
    "        else:\n",
    "            p = np.max(precision[recall >= t])\n",
    "        ap = ap + p / 11.0\n",
    "\n",
    "    return mIOU/len(predicted_boxes), mIOU_frame, ap"
   ]
  },
  {
   "cell_type": "code",
   "execution_count": 18,
   "metadata": {},
   "outputs": [],
   "source": [
    "def compute_confidences_ap(gt_boxes,N_gt,predicted_boxes,N=10,iou_th = 0.5):\n",
    "    \"\"\" \n",
    "    Randomly generates the order of the bounding boxes to calculate the average precision (N times). \n",
    "    Average values will be returned.\n",
    "    \"\"\"\n",
    "    ap_scores = []\n",
    "    \n",
    "    for i in tqdm(range(N)):\n",
    "        random.shuffle(predicted_boxes)\n",
    "        mIOU,_, ap = mean_AP_Pascal_VOC(gt_boxes,N_gt,predicted_boxes,iou_th)\n",
    "        ap_scores.append(ap)\n",
    "        \n",
    "\n",
    "    return sum(ap_scores)/len(ap_scores),mIOU"
   ]
  },
  {
   "attachments": {},
   "cell_type": "markdown",
   "metadata": {},
   "source": [
    "# TASK 1.1"
   ]
  },
  {
   "cell_type": "code",
   "execution_count": 19,
   "metadata": {},
   "outputs": [
    {
     "name": "stderr",
     "output_type": "stream",
     "text": [
      "OpenCV: Couldn't read video stream from file \"../../dataset/AICity_data/train/S03/c010/vdo.avi\"\n",
      "[ERROR:0@244.565] global cap.cpp:166 open VIDEOIO(CV_IMAGES): raised OpenCV exception:\n",
      "\n",
      "OpenCV(4.7.0) /Users/xperience/GHA-OCV-Python/_work/opencv-python/opencv-python/opencv/modules/videoio/src/cap_images.cpp:253: error: (-5:Bad argument) CAP_IMAGES: can't find starting number (in the name of file): ../../dataset/AICity_data/train/S03/c010/vdo.avi in function 'icvExtractPattern'\n",
      "\n",
      "\n"
     ]
    }
   ],
   "source": [
    "gt_boxes,total = load_from_xml('../dataset/ai_challenge_s03_c010-full_annotation.xml')\n",
    "df = pd.DataFrame(columns=['mean','std','delete_probability','generate_probability','mIOU','mAP'])\n",
    "video_capture = cv2.VideoCapture('../../dataset/AICity_data/train/S03/c010/vdo.avi')"
   ]
  },
  {
   "attachments": {},
   "cell_type": "markdown",
   "metadata": {},
   "source": [
    "NOISE PARAMETERS"
   ]
  },
  {
   "cell_type": "code",
   "execution_count": 20,
   "metadata": {},
   "outputs": [
    {
     "name": "stderr",
     "output_type": "stream",
     "text": [
      "100%|██████████| 10/10 [00:10<00:00,  1.07s/it]\n",
      "100%|██████████| 10/10 [00:10<00:00,  1.06s/it]\n",
      "100%|██████████| 10/10 [00:10<00:00,  1.06s/it]\n",
      "100%|██████████| 10/10 [00:10<00:00,  1.05s/it]\n",
      "100%|██████████| 10/10 [00:10<00:00,  1.09s/it]\n",
      "100%|██████████| 10/10 [00:10<00:00,  1.07s/it]\n",
      "100%|██████████| 10/10 [00:10<00:00,  1.09s/it]\n",
      "100%|██████████| 10/10 [00:04<00:00,  2.46it/s]\n",
      "100%|██████████| 10/10 [00:11<00:00,  1.15s/it]\n"
     ]
    }
   ],
   "source": [
    "mean = [-2,0,2]\n",
    "std = [2,5,10,15]\n",
    "\n",
    "for i in range(len(mean)):\n",
    "    noisy_bboxes = generate_noisy_boxes(gt_boxes,del_prob=0.1,gen_prob=0.1,mean=mean[i],std=1)\n",
    "    mAP,mIOU = compute_confidences_ap(gt_boxes,total,noisy_bboxes)\n",
    "    df.at[i,'mean'] = mean[i]\n",
    "    df.at[i,'std'] = 1\n",
    "    df.at[i,'delete_probability'] = 0.1\n",
    "    df.at[i,'generate_probability'] = 0.1\n",
    "    df.at[i,'mIOU'] = mIOU\n",
    "    df.at[i,'mAP'] = mAP\n",
    "\n",
    "\n",
    "for i in range(len(std)):\n",
    "    noisy_bboxes = generate_noisy_boxes(gt_boxes,del_prob=0.1,gen_prob=0.1,mean=0,std=std[i])\n",
    "    mAP,mIOU = compute_confidences_ap(gt_boxes,total,noisy_bboxes)\n",
    "    df.at[i+3,'mean'] = 0\n",
    "    df.at[i+3,'std'] = std[i]\n",
    "    df.at[i+3,'delete_probability'] = 0.1\n",
    "    df.at[i+3,'generate_probability'] = 0.1\n",
    "    df.at[i+3,'mIOU'] = mIOU\n",
    "    df.at[i+3,'mAP'] = mAP\n",
    "\n",
    "\n",
    "noisy_bboxes = generate_noisy_boxes(gt_boxes,del_prob=0.7,gen_prob=0.1,mean=0,std=1)\n",
    "mAP,mIOU = compute_confidences_ap(gt_boxes,total,noisy_bboxes)\n",
    "df.at[7,'mean'] = 0\n",
    "df.at[7,'std'] = 1\n",
    "df.at[7,'delete_probability'] = 0.7\n",
    "df.at[7,'generate_probability'] = 0.1\n",
    "df.at[7,'mIOU'] = mIOU\n",
    "df.at[7,'mAP'] = mAP\n",
    "\n",
    "noisy_bboxes = generate_noisy_boxes(gt_boxes,del_prob=0.1,gen_prob=0.7,mean=0,std=1)\n",
    "mAP,mIOU = compute_confidences_ap(gt_boxes,total,noisy_bboxes)\n",
    "df.at[8,'mean'] = 0\n",
    "df.at[8,'std'] = 1\n",
    "df.at[8,'delete_probability'] = 0.1\n",
    "df.at[8,'generate_probability'] = 0.7\n",
    "df.at[8,'mIOU'] = mIOU\n",
    "df.at[8,'mAP'] = mAP\n"
   ]
  },
  {
   "cell_type": "code",
   "execution_count": 11,
   "metadata": {},
   "outputs": [],
   "source": [
    "noisy_bboxes = generate_noisy_boxes(gt_boxes,del_prob=0.1,gen_prob=0.1,mean=-2,std=15)\n",
    "mAP,mIOU = compute_confidences_ap(gt_boxes,total,noisy_bboxes)\n",
    "df.at[9,'mean'] = -2\n",
    "df.at[9,'std'] = 15\n",
    "df.at[9,'delete_probability'] = 0.1\n",
    "df.at[9,'generate_probability'] = 0.1\n",
    "df.at[9,'mIOU'] = mIOU\n",
    "df.at[9,'mAP'] = mAP"
   ]
  },
  {
   "cell_type": "code",
   "execution_count": 12,
   "metadata": {},
   "outputs": [
    {
     "data": {
      "text/plain": "  mean std delete_probability generate_probability      mIOU       mAP\n0   -2   1                0.1                  0.1  0.885991  0.809713\n1    0   1                0.1                  0.1  0.947668  0.811381\n2    2   1                0.1                  0.1   0.88708  0.900804\n3    0   2                0.1                  0.1  0.907309  0.900525\n4    0   5                0.1                  0.1  0.802407   0.80859\n5    0  10                0.1                  0.1  0.660726  0.630007\n6    0  15                0.1                  0.1  0.556411  0.375532\n7    0   1                0.7                  0.1   0.92434  0.267026\n8    0   1                0.1                  0.7  0.889666  0.766635\n9   -2  15                0.1                  0.1  0.553073  0.359863",
      "text/html": "<div>\n<style scoped>\n    .dataframe tbody tr th:only-of-type {\n        vertical-align: middle;\n    }\n\n    .dataframe tbody tr th {\n        vertical-align: top;\n    }\n\n    .dataframe thead th {\n        text-align: right;\n    }\n</style>\n<table border=\"1\" class=\"dataframe\">\n  <thead>\n    <tr style=\"text-align: right;\">\n      <th></th>\n      <th>mean</th>\n      <th>std</th>\n      <th>delete_probability</th>\n      <th>generate_probability</th>\n      <th>mIOU</th>\n      <th>mAP</th>\n    </tr>\n  </thead>\n  <tbody>\n    <tr>\n      <th>0</th>\n      <td>-2</td>\n      <td>1</td>\n      <td>0.1</td>\n      <td>0.1</td>\n      <td>0.885991</td>\n      <td>0.809713</td>\n    </tr>\n    <tr>\n      <th>1</th>\n      <td>0</td>\n      <td>1</td>\n      <td>0.1</td>\n      <td>0.1</td>\n      <td>0.947668</td>\n      <td>0.811381</td>\n    </tr>\n    <tr>\n      <th>2</th>\n      <td>2</td>\n      <td>1</td>\n      <td>0.1</td>\n      <td>0.1</td>\n      <td>0.88708</td>\n      <td>0.900804</td>\n    </tr>\n    <tr>\n      <th>3</th>\n      <td>0</td>\n      <td>2</td>\n      <td>0.1</td>\n      <td>0.1</td>\n      <td>0.907309</td>\n      <td>0.900525</td>\n    </tr>\n    <tr>\n      <th>4</th>\n      <td>0</td>\n      <td>5</td>\n      <td>0.1</td>\n      <td>0.1</td>\n      <td>0.802407</td>\n      <td>0.80859</td>\n    </tr>\n    <tr>\n      <th>5</th>\n      <td>0</td>\n      <td>10</td>\n      <td>0.1</td>\n      <td>0.1</td>\n      <td>0.660726</td>\n      <td>0.630007</td>\n    </tr>\n    <tr>\n      <th>6</th>\n      <td>0</td>\n      <td>15</td>\n      <td>0.1</td>\n      <td>0.1</td>\n      <td>0.556411</td>\n      <td>0.375532</td>\n    </tr>\n    <tr>\n      <th>7</th>\n      <td>0</td>\n      <td>1</td>\n      <td>0.7</td>\n      <td>0.1</td>\n      <td>0.92434</td>\n      <td>0.267026</td>\n    </tr>\n    <tr>\n      <th>8</th>\n      <td>0</td>\n      <td>1</td>\n      <td>0.1</td>\n      <td>0.7</td>\n      <td>0.889666</td>\n      <td>0.766635</td>\n    </tr>\n    <tr>\n      <th>9</th>\n      <td>-2</td>\n      <td>15</td>\n      <td>0.1</td>\n      <td>0.1</td>\n      <td>0.553073</td>\n      <td>0.359863</td>\n    </tr>\n  </tbody>\n</table>\n</div>"
     },
     "execution_count": 12,
     "metadata": {},
     "output_type": "execute_result"
    }
   ],
   "source": [
    "df"
   ]
  },
  {
   "attachments": {},
   "cell_type": "markdown",
   "metadata": {},
   "source": [
    "### Bounding box visualization"
   ]
  },
  {
   "cell_type": "code",
   "execution_count": 13,
   "metadata": {},
   "outputs": [],
   "source": [
    "def group_by_frame(predicted_boxes):\n",
    "    \"\"\"Group the detected boxes by frame_id as a dictionary\"\"\"\n",
    "    predicted_boxes.sort(key=lambda x: x[0])\n",
    "    predicted_boxes = itertools.groupby(predicted_boxes, key=lambda x: x[0])\n",
    "    predicted_boxes = {k: list(v) for k, v in predicted_boxes}\n",
    "    return predicted_boxes"
   ]
  },
  {
   "cell_type": "code",
   "execution_count": 14,
   "metadata": {},
   "outputs": [],
   "source": [
    "def bounding_box_visualization(path,gt_boxes,predicted_boxes,video_capture,frame_id,iou_scores):\n",
    "    n_frame = int(frame_id.split('_')[-1])\n",
    "    video_capture.set(cv2.CAP_PROP_POS_FRAMES, n_frame-1)\n",
    "    res, frame = video_capture.read()\n",
    "    # Draw the ground truth boxes\n",
    "    for box in gt_boxes[frame_id]:\n",
    "        cv2.rectangle(frame, (int(box[0]), int(box[1])), (int(box[2]), int(box[3])), (0, 255, 0), 2)\n",
    "    # Draw the predicted boxes\n",
    "    for box in predicted_boxes[frame_id]:\n",
    "        cv2.rectangle(frame, (int(box[1]), int(box[2])), (int(box[3]), int(box[4])), (0, 0, 255), 2)\n",
    "    # put text mIOU of frame\n",
    "    cv2.putText(frame, f\"IoU score: {iou_scores[n_frame]}\", (10, 30), cv2.FONT_HERSHEY_SIMPLEX, 1, (255, 255, 255), 2, cv2.LINE_AA)\n",
    "    # put text number of frame\n",
    "    cv2.putText(frame, f\"Frame: {n_frame}\", (10, 60), cv2.FONT_HERSHEY_SIMPLEX, 1, (255, 255, 255), 2, cv2.LINE_AA)\n",
    "            \n",
    "\n",
    "    cv2.imwrite(f'{path}/{frame_id}.png', frame)\n",
    "\n",
    "    ret, frame = video_capture.read()\n",
    "    "
   ]
  },
  {
   "cell_type": "code",
   "execution_count": 15,
   "metadata": {},
   "outputs": [],
   "source": [
    "noisy_bboxes = generate_noisy_boxes(gt_boxes,0.6,0.1,0,25)\n",
    "mIOU, mIOU_frame ,AP = mean_AP_Pascal_VOC(gt_boxes,total,noisy_bboxes,iou_th=0.5)\n",
    "noisy_bboxes = group_by_frame(noisy_bboxes)\n"
   ]
  },
  {
   "cell_type": "code",
   "execution_count": 16,
   "metadata": {},
   "outputs": [],
   "source": [
    "frames_id = list(noisy_bboxes.keys())\n",
    "frames_id.sort(key=lambda x: int(x.split('_')[1]))\n",
    "frames = random.sample(frames_id, 5)\n",
    "iou_scores = [np.mean(mIOU_frame[frame]) for frame in frames_id]"
   ]
  },
  {
   "cell_type": "code",
   "execution_count": 17,
   "metadata": {},
   "outputs": [
    {
     "ename": "error",
     "evalue": "OpenCV(4.7.0) /Users/xperience/GHA-OCV-Python/_work/opencv-python/opencv-python/opencv/modules/imgcodecs/src/loadsave.cpp:783: error: (-215:Assertion failed) !_img.empty() in function 'imwrite'\n",
     "output_type": "error",
     "traceback": [
      "\u001B[0;31m---------------------------------------------------------------------------\u001B[0m",
      "\u001B[0;31merror\u001B[0m                                     Traceback (most recent call last)",
      "Cell \u001B[0;32mIn[17], line 3\u001B[0m\n\u001B[1;32m      1\u001B[0m path \u001B[38;5;241m=\u001B[39m \u001B[38;5;124m'\u001B[39m\u001B[38;5;124m'\u001B[39m\n\u001B[1;32m      2\u001B[0m \u001B[38;5;28;01mfor\u001B[39;00m frame \u001B[38;5;129;01min\u001B[39;00m frames:\n\u001B[0;32m----> 3\u001B[0m     \u001B[43mbounding_box_visualization\u001B[49m\u001B[43m(\u001B[49m\u001B[43mpath\u001B[49m\u001B[43m,\u001B[49m\u001B[43mgt_boxes\u001B[49m\u001B[43m,\u001B[49m\u001B[43mnoisy_bboxes\u001B[49m\u001B[43m,\u001B[49m\u001B[43mvideo_capture\u001B[49m\u001B[43m,\u001B[49m\u001B[43mframe\u001B[49m\u001B[43m,\u001B[49m\u001B[43miou_scores\u001B[49m\u001B[43m)\u001B[49m\n\u001B[1;32m      4\u001B[0m     \u001B[38;5;28mprint\u001B[39m(\u001B[38;5;124mf\u001B[39m\u001B[38;5;124m'\u001B[39m\u001B[38;5;132;01m{\u001B[39;00mframe\u001B[38;5;132;01m}\u001B[39;00m\u001B[38;5;124m IoU bboxes:\u001B[39m\u001B[38;5;124m'\u001B[39m)\n\u001B[1;32m      5\u001B[0m     \u001B[38;5;28mprint\u001B[39m(mIOU_frame[frame])\n",
      "Cell \u001B[0;32mIn[14], line 17\u001B[0m, in \u001B[0;36mbounding_box_visualization\u001B[0;34m(path, gt_boxes, predicted_boxes, video_capture, frame_id, iou_scores)\u001B[0m\n\u001B[1;32m     13\u001B[0m \u001B[38;5;66;03m# put text number of frame\u001B[39;00m\n\u001B[1;32m     14\u001B[0m cv2\u001B[38;5;241m.\u001B[39mputText(frame, \u001B[38;5;124mf\u001B[39m\u001B[38;5;124m\"\u001B[39m\u001B[38;5;124mFrame: \u001B[39m\u001B[38;5;132;01m{\u001B[39;00mn_frame\u001B[38;5;132;01m}\u001B[39;00m\u001B[38;5;124m\"\u001B[39m, (\u001B[38;5;241m10\u001B[39m, \u001B[38;5;241m60\u001B[39m), cv2\u001B[38;5;241m.\u001B[39mFONT_HERSHEY_SIMPLEX, \u001B[38;5;241m1\u001B[39m, (\u001B[38;5;241m255\u001B[39m, \u001B[38;5;241m255\u001B[39m, \u001B[38;5;241m255\u001B[39m), \u001B[38;5;241m2\u001B[39m, cv2\u001B[38;5;241m.\u001B[39mLINE_AA)\n\u001B[0;32m---> 17\u001B[0m \u001B[43mcv2\u001B[49m\u001B[38;5;241;43m.\u001B[39;49m\u001B[43mimwrite\u001B[49m\u001B[43m(\u001B[49m\u001B[38;5;124;43mf\u001B[39;49m\u001B[38;5;124;43m'\u001B[39;49m\u001B[38;5;132;43;01m{\u001B[39;49;00m\u001B[43mpath\u001B[49m\u001B[38;5;132;43;01m}\u001B[39;49;00m\u001B[38;5;124;43m/\u001B[39;49m\u001B[38;5;132;43;01m{\u001B[39;49;00m\u001B[43mframe_id\u001B[49m\u001B[38;5;132;43;01m}\u001B[39;49;00m\u001B[38;5;124;43m.png\u001B[39;49m\u001B[38;5;124;43m'\u001B[39;49m\u001B[43m,\u001B[49m\u001B[43m \u001B[49m\u001B[43mframe\u001B[49m\u001B[43m)\u001B[49m\n\u001B[1;32m     19\u001B[0m ret, frame \u001B[38;5;241m=\u001B[39m video_capture\u001B[38;5;241m.\u001B[39mread()\n",
      "\u001B[0;31merror\u001B[0m: OpenCV(4.7.0) /Users/xperience/GHA-OCV-Python/_work/opencv-python/opencv-python/opencv/modules/imgcodecs/src/loadsave.cpp:783: error: (-215:Assertion failed) !_img.empty() in function 'imwrite'\n"
     ]
    }
   ],
   "source": [
    "path = ''\n",
    "for frame in frames:\n",
    "    bounding_box_visualization(path,gt_boxes,noisy_bboxes,video_capture,frame,iou_scores)\n",
    "    print(f'{frame} IoU bboxes:')\n",
    "    print(mIOU_frame[frame])"
   ]
  },
  {
   "attachments": {},
   "cell_type": "markdown",
   "metadata": {},
   "source": [
    "# TASK 1.2\n",
    "\n",
    "● Compute the mAP for the provided detections (mask_rcnn, ssd512, yolo3)"
   ]
  },
  {
   "cell_type": "code",
   "execution_count": null,
   "metadata": {},
   "outputs": [],
   "source": [
    "maskrcnn = '../dataset/AICity_data/train/S03/c010/det/det_mask_rcnn.txt'\n",
    "ssd = '../dataset/AICity_data/train/S03/c010/det/det_ssd512.txt'\n",
    "yolo = '../dataset/AICity_data/train/S03/c010/det/det_yolo3.txt'"
   ]
  },
  {
   "cell_type": "code",
   "execution_count": null,
   "metadata": {},
   "outputs": [],
   "source": [
    "paths = [maskrcnn,yolo,ssd]\n",
    "for path in paths:\n",
    "    boxes = load_from_txt(path)\n",
    "    # Sort by confidence\n",
    "    boxes.sort(key=lambda x:x[-1], reverse=True)\n",
    "    mIOU, _ ,AP = mean_AP_Pascal_VOC(gt_boxes,total,boxes,iou_th=0.5)\n",
    "\n",
    "    print(path.split('/')[-1],':')\n",
    "    print(mIOU, AP)"
   ]
  },
  {
   "attachments": {},
   "cell_type": "markdown",
   "metadata": {},
   "source": [
    "# TASK 2\n"
   ]
  },
  {
   "cell_type": "code",
   "execution_count": null,
   "metadata": {},
   "outputs": [],
   "source": [
    "paths = [maskrcnn,yolo,ssd]\n",
    "for path in paths:\n",
    "    boxes = load_from_txt(path)\n",
    "    boxes.sort(key=lambda x:x[-1], reverse=True)\n",
    "    mIOU, mIOU_frame ,AP = mean_AP_Pascal_VOC(gt_boxes,total,boxes,iou_th=0.5)\n",
    "\n",
    "    # Plot the IoU score for each frame\n",
    "    plt.figure(figsize=(10,5))\n",
    "    # Set title\n",
    "    plt.title(path.split('/')[-1])\n",
    "    frames = list(mIOU_frame.keys())\n",
    "    # Sort the frames\n",
    "    frames.sort(key=lambda x: int(x.split('_')[1]))\n",
    "    # Convert frames to a list of integers\n",
    "    frames_num = [int(frame.split('_')[1]) for frame in frames]\n",
    "    iou_scores = [np.mean(mIOU_frame[frame]) for frame in frames]\n",
    "    plt.plot(frames_num, iou_scores)\n",
    "    plt.xlabel('Frame')\n",
    "    plt.ylabel('IoU score')\n",
    "    # y from 0 to 1\n",
    "    plt.ylim(0,1)\n",
    "    plt.show()\n"
   ]
  },
  {
   "cell_type": "code",
   "execution_count": null,
   "metadata": {},
   "outputs": [],
   "source": [
    "\"\"\"\n",
    "import itertools\n",
    "import numpy as np\n",
    "import matplotlib.pyplot as plt\n",
    "import matplotlib.animation as animation\n",
    "\n",
    "def group_by_frame(predicted_boxes):\n",
    "    \"\"\"Group the detected boxes by frame_id as a dictionary\"\"\"\n",
    "    predicted_boxes.sort(key=lambda x: x[0])\n",
    "    predicted_boxes = itertools.groupby(predicted_boxes, key=lambda x: x[0])\n",
    "    predicted_boxes = {k: list(v) for k, v in predicted_boxes}\n",
    "    return predicted_boxes\n",
    "\n",
    "def create_animation(path, gt_boxes, predicted_boxes, video_capture):\n",
    "    \"\"\"Create an animation of the IoU score for each frame\"\"\"\n",
    "    # Group the detected boxes by frame_id as a dictionary\n",
    "    predicted_boxes_group = group_by_frame(predicted_boxes)\n",
    "    # Get the IoU score for each frame in format dict {frame_id: [iou_score1, iou_score2, ...]}\n",
    "    mIOU, mIOU_frame ,AP = mean_AP_Pascal_VOC(gt_boxes,total,predicted_boxes,iou_th=0.5)\n",
    "    # Get the frame_id list\n",
    "    frames_id = list(mIOU_frame.keys())\n",
    "    # Sort the frames list\n",
    "    frames_id.sort(key=lambda x: int(x.split('_')[1]))\n",
    "    frames_num = [int(frame.split('_')[1]) for frame in frames_id]\n",
    "    # Get the IoU score list\n",
    "    iou_scores = [np.mean(mIOU_frame[frame]) for frame in frames_id]\n",
    "    # Get the video fps\n",
    "    fps = video_capture.get(cv2.CAP_PROP_FPS)\n",
    "    # Get the video width\n",
    "    width = int(video_capture.get(cv2.CAP_PROP_FRAME_WIDTH))\n",
    "    # Get the video height\n",
    "    height = int(video_capture.get(cv2.CAP_PROP_FRAME_HEIGHT))\n",
    "\n",
    "    # Create a figure\n",
    "    fig = plt.figure(figsize=(10, 10))\n",
    "\n",
    "    # Create a subplot for the video frames\n",
    "    ax1 = fig.add_subplot(211)\n",
    "    # Hide the x and y ticks and labels\n",
    "    ax1.set_xticks([])\n",
    "    ax1.set_yticks([])\n",
    "\n",
    "    # Create a subplot for the IoU line plot\n",
    "    ax2 = fig.add_subplot(212)\n",
    "    # Set the title\n",
    "    ax2.set_title('IoU score for each frame')\n",
    "    # Set the x label\n",
    "    ax2.set_xlabel('Frame')\n",
    "    # Set the y label\n",
    "    ax2.set_ylabel('IoU score')\n",
    "    # Set the x axis range\n",
    "    ax2.set_xlim(0, frames_num[-1])\n",
    "    # Set the y axis range\n",
    "    ax2.set_ylim(0, 1)\n",
    "    # Create a line\n",
    "    line, = ax2.plot([], [], lw=2)\n",
    "\n",
    "    print(gt_boxes[frames_id[0]])\n",
    "    print(predicted_boxes_group[frames_id[0]])\n",
    "\n",
    "    # Create a function to initialize the animation\n",
    "    def init():\n",
    "        line.set_data([], [])\n",
    "        # text.set_text('')\n",
    "        return line,\n",
    "\n",
    "    # Create a function to update the animation\n",
    "    def animate(i):\n",
    "        # Update IoU line plot\n",
    "        line.set_data(frames_num[:i], iou_scores[:i])\n",
    "\n",
    "        # # Update video frames\n",
    "        ret, frame = video_capture.read()\n",
    "        if ret:\n",
    "            # Convert the frame to RGB\n",
    "            frame = cv2.cvtColor(frame, cv2.COLOR_BGR2RGB)\n",
    "            # Draw the ground truth boxes\n",
    "            for box in gt_boxes[frames_id[i]]:\n",
    "                cv2.rectangle(frame, (int(box[0]), int(box[1])), (int(box[2]), int(box[3])), (0, 255, 0), 2)\n",
    "            # Draw the predicted boxes\n",
    "            for box in predicted_boxes_group[frames_id[i]]:\n",
    "                cv2.rectangle(frame, (int(box[1]), int(box[2])), (int(box[3]), int(box[4])), (0, 0, 255), 2)\n",
    "            # Set the frame to the subplot in rgb format\n",
    "            ax1.imshow(frame)\n",
    "\n",
    "        return line\n",
    "\n",
    "\n",
    "    # # Create the animation\n",
    "    ani = animation.FuncAnimation(\n",
    "        fig, animate, frames=None, init_func=init)#, interval=1000/fps, blit=True, repeat=False)\n",
    "\n",
    "    ani.save(f'Prova.mp4', fps=fps, bitrate=-1,\n",
    "            extra_args=['-vcodec', 'libx264'])\n",
    "\"\"\"\n",
    "gt_boxes,total = load_from_xml('../dataset/ai_challenge_s03_c010-full_annotation.xml')\n",
    "predicted_boxes = load_from_txt('../dataset/AICity_data/train/S03/c010/det/det_mask_rcnn.txt')\n",
    "predicted_boxes.sort(key=lambda x:x[-1], reverse=True)\n",
    "video_capture = cv2.VideoCapture('../dataset/AICity_data/train/S03/c010/vdo.avi')\n",
    "# create_animation('../dataset/AICity_data/train/S03/c010/vdo.avi', gt_boxes, predicted_boxes, video_capture)\n",
    "\n"
   ]
  },
  {
   "cell_type": "code",
   "execution_count": 21,
   "metadata": {
    "collapsed": false
   },
   "outputs": [],
   "source": [
    "gt_boxes,total = load_from_xml('../dataset/ai_challenge_s03_c010-full_annotation.xml')\n",
    "predicted_boxes = load_from_txt('../dataset/AICity_data/train/S03/c010/det/det_mask_rcnn.txt')\n",
    "predicted_boxes.sort(key=lambda x:x[-1], reverse=True)\n",
    "video_capture = cv2.VideoCapture('../dataset/AICity_data/train/S03/c010/vdo.avi')"
   ]
  },
  {
   "cell_type": "code",
   "execution_count": 22,
   "metadata": {
    "collapsed": false
   },
   "outputs": [],
   "source": [
    "import itertools\n",
    "import numpy as np\n",
    "import cv2\n",
    "\n",
    "def group_by_frame(predicted_boxes):\n",
    "    \"\"\"Group the detected boxes by frame_id as a dictionary\"\"\"\n",
    "    predicted_boxes.sort(key=lambda x: x[0])\n",
    "    predicted_boxes = itertools.groupby(predicted_boxes, key=lambda x: x[0])\n",
    "    predicted_boxes = {k: list(v) for k, v in predicted_boxes}\n",
    "    return predicted_boxes\n",
    "\n",
    "def create_video(path, gt_boxes, predicted_boxes, video_capture):\n",
    "    \"\"\"Create a video with the IoU score for each frame\"\"\"\n",
    "    # Group the detected boxes by frame_id as a dictionary\n",
    "    predicted_boxes_group = group_by_frame(predicted_boxes)\n",
    "    # Get the IoU score for each frame in format dict {frame_id: [iou_score1, iou_score2, ...]}\n",
    "    mIOU, mIOU_frame ,AP = mean_AP_Pascal_VOC(gt_boxes,total,predicted_boxes,iou_th=0.5)\n",
    "    # Get the frame_id list\n",
    "    frames_id = list(mIOU_frame.keys())\n",
    "    # Sort the frames list\n",
    "    frames_id.sort(key=lambda x: int(x.split('_')[1]))\n",
    "    frames_num = [int(frame.split('_')[1]) for frame in frames_id]\n",
    "    # Get the IoU score list\n",
    "    iou_scores = [np.mean(mIOU_frame[frame]) for frame in frames_id]\n",
    "    # Get the video fps\n",
    "    fps = video_capture.get(cv2.CAP_PROP_FPS)\n",
    "    # Get the video width\n",
    "    width = int(video_capture.get(cv2.CAP_PROP_FRAME_WIDTH))\n",
    "    # Get the video height\n",
    "    height = int(video_capture.get(cv2.CAP_PROP_FRAME_HEIGHT))\n",
    "\n",
    "    # Create a VideoWriter object\n",
    "    fourcc = cv2.VideoWriter_fourcc(*'mp4v')\n",
    "    out = cv2.VideoWriter(path, fourcc, fps, (width, height))\n",
    "\n",
    "    # Loop through each frame\n",
    "    for i, frame_id in enumerate(frames_id):\n",
    "        # Read the frame\n",
    "        ret, frame = video_capture.read()\n",
    "        if ret:\n",
    "            # Convert the frame to RGB\n",
    "            # frame = cv2.cvtColor(frame, cv2.COLOR_BGR2RGB)\n",
    "            # Draw the ground truth boxes\n",
    "            for box in gt_boxes[frame_id]:\n",
    "                cv2.rectangle(frame, (int(box[0]), int(box[1])), (int(box[2]), int(box[3])), (0, 255, 0), 2)\n",
    "            # Draw the predicted boxes\n",
    "            for box in predicted_boxes_group[frame_id]:\n",
    "                cv2.rectangle(frame, (int(box[1]), int(box[2])), (int(box[3]), int(box[4])), (0, 0, 255), 2)\n",
    "            # Draw the IoU score\n",
    "            iou_score = round(iou_scores[i], 2)\n",
    "            cv2.putText(frame, f\"IoU score: {iou_score}\", (10, 30), cv2.FONT_HERSHEY_SIMPLEX, 1, (255, 255, 255), 2, cv2.LINE_AA)\n",
    "            # put text number of frame\n",
    "            cv2.putText(frame, f\"Frame: {frames_num[i]}\", (10, 60), cv2.FONT_HERSHEY_SIMPLEX, 1, (255, 255, 255), 2, cv2.LINE_AA)\n",
    "            # put fps\n",
    "            cv2.putText(frame, f\"FPS: {fps}\", (10, 90), cv2.FONT_HERSHEY_SIMPLEX, 1, (255, 255, 255), 2, cv2.LINE_AA)\n",
    "            # Write the frame to the video\n",
    "            out.write(frame)\n",
    "\n",
    "    # Release the VideoWriter object\n",
    "    out.release()\n"
   ]
  },
  {
   "cell_type": "code",
   "execution_count": 23,
   "metadata": {
    "collapsed": false
   },
   "outputs": [],
   "source": [
    "create_video('Prova.mp4', gt_boxes, predicted_boxes, video_capture)"
   ]
  },
  {
   "cell_type": "code",
   "execution_count": null,
   "outputs": [],
   "source": [],
   "metadata": {
    "collapsed": false
   }
  }
 ],
 "metadata": {
  "kernelspec": {
   "display_name": "base",
   "language": "python",
   "name": "python3"
  },
  "language_info": {
   "codemirror_mode": {
    "name": "ipython",
    "version": 3
   },
   "file_extension": ".py",
   "mimetype": "text/x-python",
   "name": "python",
   "nbconvert_exporter": "python",
   "pygments_lexer": "ipython3",
   "version": "3.9.12"
  },
  "orig_nbformat": 4
 },
 "nbformat": 4,
 "nbformat_minor": 2
}
