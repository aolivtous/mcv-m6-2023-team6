{
 "cells": [
  {
   "cell_type": "code",
   "execution_count": 5,
   "metadata": {
    "collapsed": true
   },
   "outputs": [],
   "source": [
    "annotations_path = '../../dataset/ai_challenge_s03_c010-full_annotation.xml'\n",
    "video_path = '../../dataset/AICity_data/train/S03/c010/vdo.avi'\n",
    "\n",
    "rcnn =  '../../dataset/AICity_data/train/S03/c010/det/det_mask_rcnn.txt'\n",
    "ssd =  '../../dataset/AICity_data/train/S03/c010/det/det_ssd512.txt'\n",
    "yolo = '../../dataset/AICity_data/train/S03/c010/det/det_yolo3.txt'"
   ]
  },
  {
   "cell_type": "code",
   "execution_count": 6,
   "outputs": [],
   "source": [
    "import numpy as np\n",
    "import matplotlib.pyplot as plt\n",
    "import cv2"
   ],
   "metadata": {
    "collapsed": false
   }
  },
  {
   "cell_type": "code",
   "execution_count": null,
   "outputs": [],
   "source": [],
   "metadata": {
    "collapsed": false
   }
  }
 ],
 "metadata": {
  "kernelspec": {
   "display_name": "Python 3",
   "language": "python",
   "name": "python3"
  },
  "language_info": {
   "codemirror_mode": {
    "name": "ipython",
    "version": 2
   },
   "file_extension": ".py",
   "mimetype": "text/x-python",
   "name": "python",
   "nbconvert_exporter": "python",
   "pygments_lexer": "ipython2",
   "version": "2.7.6"
  }
 },
 "nbformat": 4,
 "nbformat_minor": 0
}
